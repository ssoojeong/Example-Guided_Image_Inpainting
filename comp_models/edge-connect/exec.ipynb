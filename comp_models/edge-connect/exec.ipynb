{
 "cells": [
  {
   "cell_type": "markdown",
   "metadata": {},
   "source": [
    "### Test"
   ]
  },
  {
   "cell_type": "code",
   "execution_count": null,
   "metadata": {
    "vscode": {
     "languageId": "plaintext"
    }
   },
   "outputs": [],
   "source": [
    "#custom\n",
    "python test.py \\\n",
    "  --model [stage] \\\n",
    "  --checkpoints [path to checkpoints] \\\n",
    "  --input [path to input directory or file] \\\n",
    "  --mask [path to masks directory or mask file] \\\n",
    "  --output [path to the output directory]"
   ]
  },
  {
   "cell_type": "code",
   "execution_count": null,
   "metadata": {
    "vscode": {
     "languageId": "plaintext"
    }
   },
   "outputs": [],
   "source": [
    "#pre-trained\n",
    "python test.py \\\n",
    "    --checkpoints ./checkpoints/celeba \\\n",
    "    --input ./examples/celeba/images \\\n",
    "    --mask ./examples/celeba/masks \\\n",
    "    --output ./checkpoints/results"
   ]
  }
 ],
 "metadata": {
  "language_info": {
   "name": "python"
  }
 },
 "nbformat": 4,
 "nbformat_minor": 2
}
